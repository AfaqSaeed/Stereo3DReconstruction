{
 "cells": [
  {
   "cell_type": "code",
   "execution_count": 1,
   "metadata": {},
   "outputs": [],
   "source": [
    "import cv2\n",
    "from numpy import *\n",
    "import numpy as np\n",
    "import os\n",
    "import random\n",
    "import stereo_setting as stset"
   ]
  },
  {
   "cell_type": "code",
   "execution_count": 2,
   "metadata": {},
   "outputs": [],
   "source": [
    "# Rectifying the images\n",
    "imgNo = 100\n",
    "imgL, imgR = cv2.imread(f\"../test/left/{imgNo}_L_.png\"), cv2.imread(f\"../test/right/{imgNo}_R_.png\")\n",
    "vert, hori = imgL.shape[:2]\n",
    "left_stereo_map, right_stereo_map, _ = stset.st_maps(\"./calibParams/\", (hori, vert))\n",
    "rectL, rectR = stset.st_rectify(imgL, imgR, left_stereo_map, right_stereo_map)"
   ]
  },
  {
   "cell_type": "code",
   "execution_count": 5,
   "metadata": {},
   "outputs": [],
   "source": [
    "grayL = cv2.cvtColor(rectL,cv2.COLOR_BGR2GRAY)\n",
    "grayR = cv2.cvtColor(rectR,cv2.COLOR_BGR2GRAY)\n",
    "\n",
    "def drawLines(img):\n",
    "    # img = image.copy()\n",
    "    y,count = 0,0\n",
    "    while(count<40):\n",
    "        img = cv2.line(img, (0,50+y), (img.shape[1],50+y), (y,count*2,y), 2)\n",
    "        y+=30\n",
    "        count+=1\n",
    "    #endwhile\n",
    "    return cv2.resize(img, (640,480))\n",
    "#enddef\n",
    "\n",
    "cv2.imshow('R', drawLines(imgR))\n",
    "cv2.imshow('L', drawLines(imgL))\n",
    "cv2.imshow('R rect', drawLines(grayR))\n",
    "cv2.imshow('L rect', drawLines(grayL))\n",
    "cv2.waitKey(0)\n",
    "cv2.destroyAllWindows()\n"
   ]
  },
  {
   "cell_type": "code",
   "execution_count": 41,
   "metadata": {},
   "outputs": [],
   "source": [
    "grayR = cv2.cvtColor(rectL,cv2.COLOR_BGR2GRAY)\n",
    "grayL = cv2.cvtColor(rectR,cv2.COLOR_BGR2GRAY)\n",
    "\n",
    "# Create StereoSGBM and prepare all parameters\n",
    "window_size = 1\n",
    "min_disp = 16*0\n",
    "num_disp = (16*16)-min_disp\n",
    "left_matcher = cv2.StereoSGBM_create(minDisparity = min_disp,\n",
    "    numDisparities = num_disp,\n",
    "    blockSize = window_size,\n",
    "    uniquenessRatio = 10,\n",
    "    speckleWindowSize = 100,\n",
    "    speckleRange = 32,\n",
    "    disp12MaxDiff = 5,\n",
    "    P1 = 8*3*window_size**2,\n",
    "    P2 = 32*3*window_size**2)\n",
    "\n",
    "# Used for the filtered image\n",
    "right_matcher = cv2.ximgproc.createRightMatcher(left_matcher) # Create another stereo for right this time\n",
    "\n",
    "# WLS FILTER Parameters\n",
    "lmbda = 80000\n",
    "sigma = 1.8\n",
    "visual_multiplier = 1.0\n",
    "\n",
    "wls_filter = cv2.ximgproc.createDisparityWLSFilter(matcher_left=left_matcher)\n",
    "wls_filter.setLambda(lmbda)\n",
    "wls_filter.setSigmaColor(sigma)\n",
    "\n",
    "dispL = left_matcher.compute(grayL,grayR)\n",
    "dispR = right_matcher.compute(grayR,grayL)\n",
    "dispL = np.int16(dispL)\n",
    "dispR = np.int16(dispR)\n",
    "\n",
    "filteredImg = wls_filter.filter(dispL, grayL, None, dispR)  # important to put \"imgL\" here!!!\n",
    "filteredImg = cv2.normalize(src=filteredImg, dst=filteredImg, beta=0, alpha=255, norm_type=cv2.NORM_MINMAX);\n",
    "filteredImg = np.uint8(filteredImg)\n",
    "cv2.imwrite('./filteredImg.png', filteredImg)\n",
    "\n",
    "fil = cv2.resize(filteredImg, (640, 480))\n",
    "cv2.imshow('filteredImg',fil)\n",
    "cv2.waitKey(0)\n",
    "cv2.destroyAllWindows()"
   ]
  }
 ],
 "metadata": {
  "interpreter": {
   "hash": "916dbcbb3f70747c44a77c7bcd40155683ae19c65e1c03b4aa3499c5328201f1"
  },
  "kernelspec": {
   "display_name": "Python 3.8.10 64-bit",
   "language": "python",
   "name": "python3"
  },
  "language_info": {
   "codemirror_mode": {
    "name": "ipython",
    "version": 3
   },
   "file_extension": ".py",
   "mimetype": "text/x-python",
   "name": "python",
   "nbconvert_exporter": "python",
   "pygments_lexer": "ipython3",
   "version": "3.8.10"
  },
  "orig_nbformat": 4
 },
 "nbformat": 4,
 "nbformat_minor": 2
}
